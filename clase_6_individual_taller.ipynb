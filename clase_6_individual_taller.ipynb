{
  "nbformat": 4,
  "nbformat_minor": 0,
  "metadata": {
    "colab": {
      "provenance": [],
      "authorship_tag": "ABX9TyMYp1Bw3oAPPccRTWRgKCre",
      "include_colab_link": true
    },
    "kernelspec": {
      "name": "python3",
      "display_name": "Python 3"
    },
    "language_info": {
      "name": "python"
    }
  },
  "cells": [
    {
      "cell_type": "markdown",
      "metadata": {
        "id": "view-in-github",
        "colab_type": "text"
      },
      "source": [
        "<a href=\"https://colab.research.google.com/github/slendy21/PROGCOM-B/blob/main/clase_6_individual_taller.ipynb\" target=\"_parent\"><img src=\"https://colab.research.google.com/assets/colab-badge.svg\" alt=\"Open In Colab\"/></a>"
      ]
    },
    {
      "cell_type": "markdown",
      "source": [
        "Crea una función que reciba un diccionario de productos (clave: nombre, valor: precio) y retorne el total."
      ],
      "metadata": {
        "id": "La4kw8JQff5j"
      }
    },
    {
      "cell_type": "code",
      "execution_count": 2,
      "metadata": {
        "colab": {
          "base_uri": "https://localhost:8080/"
        },
        "id": "aPSeZIDZfZfs",
        "outputId": "ec91bb00-68bc-4e99-b419-2cc5686327f2"
      },
      "outputs": [
        {
          "output_type": "stream",
          "name": "stdout",
          "text": [
            "{'productos': {'pan': 1500, 'leche': 3000, 'huevos': 5000}, 'total': 9500}\n",
            "{'productos': {'arroz': 2500, 'pollo': 8000}, 'total': 10500}\n"
          ]
        }
      ],
      "source": [
        "def total_productos(productos):\n",
        "    total = sum([precio for precio in productos.values()])\n",
        "    resultado = {\n",
        "        \"productos\": productos,\n",
        "        \"total\": total\n",
        "    }\n",
        "    return resultado\n",
        "\n",
        "print(total_productos({\"pan\": 1500, \"leche\": 3000, \"huevos\": 5000}))\n",
        "print(total_productos({\"arroz\": 2500, \"pollo\": 8000}))"
      ]
    },
    {
      "cell_type": "markdown",
      "source": [
        "Crea una función que reciba un diccionario de estudiantes (clave: nombre, valor: nota) y retorne el promedio."
      ],
      "metadata": {
        "id": "PSLky78bfjtz"
      }
    },
    {
      "cell_type": "code",
      "source": [
        "def promedio_estudiantes(estudiantes):\n",
        "    promedio = sum([nota for nota in estudiantes.values()]) / len(estudiantes)\n",
        "    resultado = {\n",
        "        \"estudiantes\": estudiantes,\n",
        "        \"promedio\": promedio\n",
        "    }\n",
        "    return resultado\n",
        "\n",
        "print(promedio_estudiantes({\"Ana\": 4.5, \"Luis\": 3.8, \"Marta\": 5.0}))\n",
        "print(promedio_estudiantes({\"Pedro\": 2.5, \"Juan\": 3.0, \"Sofía\": 4.0}))"
      ],
      "metadata": {
        "colab": {
          "base_uri": "https://localhost:8080/"
        },
        "id": "pRcizCVmfpZR",
        "outputId": "2a6687fe-d89d-49be-f1ce-1d56a14d3d21"
      },
      "execution_count": 3,
      "outputs": [
        {
          "output_type": "stream",
          "name": "stdout",
          "text": [
            "{'estudiantes': {'Ana': 4.5, 'Luis': 3.8, 'Marta': 5.0}, 'promedio': 4.433333333333334}\n",
            "{'estudiantes': {'Pedro': 2.5, 'Juan': 3.0, 'Sofía': 4.0}, 'promedio': 3.1666666666666665}\n"
          ]
        }
      ]
    },
    {
      "cell_type": "markdown",
      "source": [
        "Crea una función que reciba un diccionario y un nombre, y retorne la nota si existe o 'no encontrado'."
      ],
      "metadata": {
        "id": "3yzK_QwtfuYR"
      }
    },
    {
      "cell_type": "code",
      "source": [
        "def buscar_nota(estudiantes, nombre):\n",
        "    resultado = {\n",
        "        \"nombre\": nombre,\n",
        "        \"nota\": estudiantes.get(nombre, \"no encontrado\")\n",
        "    }\n",
        "    return resultado\n",
        "\n",
        "print(buscar_nota({\"Ana\": 4.5, \"Luis\": 3.8, \"Marta\": 5.0}, \"Luis\"))\n",
        "print(buscar_nota({\"Ana\": 4.5, \"Luis\": 3.8, \"Marta\": 5.0}, \"Pedro\"))"
      ],
      "metadata": {
        "colab": {
          "base_uri": "https://localhost:8080/"
        },
        "id": "wtOVLJ0wfvLp",
        "outputId": "7e277817-3ed6-45ce-b015-8a8e36db1d56"
      },
      "execution_count": 6,
      "outputs": [
        {
          "output_type": "stream",
          "name": "stdout",
          "text": [
            "{'nombre': 'Luis', 'nota': 3.8}\n",
            "{'nombre': 'Pedro', 'nota': 'no encontrado'}\n"
          ]
        }
      ]
    },
    {
      "cell_type": "markdown",
      "source": [
        "Crea una función que reciba un diccionario y retorne el nombre del estudiante con mayor nota."
      ],
      "metadata": {
        "id": "cM1pDuQefzkZ"
      }
    },
    {
      "cell_type": "code",
      "source": [
        "def mejor_estudiante(estudiantes):\n",
        "    nombre = max(estudiantes, key=lambda x: estudiantes[x])\n",
        "    resultado = {\n",
        "        \"estudiantes\": estudiantes,\n",
        "        \"mejor_estudiante\": nombre,\n",
        "        \"nota\": estudiantes[nombre]\n",
        "    }\n",
        "    return resultado\n",
        "\n",
        "print(mejor_estudiante({\"Ana\": 4.5, \"Luis\": 3.8, \"Marta\": 5.0}))\n",
        "print(mejor_estudiante({\"Pedro\": 2.5, \"Juan\": 3.0, \"Sofía\": 4.0}))"
      ],
      "metadata": {
        "colab": {
          "base_uri": "https://localhost:8080/"
        },
        "id": "knRXYYLkf2uR",
        "outputId": "5ac3cde9-b270-42bd-abfa-bc31d772230c"
      },
      "execution_count": 5,
      "outputs": [
        {
          "output_type": "stream",
          "name": "stdout",
          "text": [
            "{'estudiantes': {'Ana': 4.5, 'Luis': 3.8, 'Marta': 5.0}, 'mejor_estudiante': 'Marta', 'nota': 5.0}\n",
            "{'estudiantes': {'Pedro': 2.5, 'Juan': 3.0, 'Sofía': 4.0}, 'mejor_estudiante': 'Sofía', 'nota': 4.0}\n"
          ]
        }
      ]
    }
  ]
}