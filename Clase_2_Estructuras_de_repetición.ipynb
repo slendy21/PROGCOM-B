{
  "nbformat": 4,
  "nbformat_minor": 0,
  "metadata": {
    "colab": {
      "provenance": [],
      "authorship_tag": "ABX9TyPqG05p/Z/IeZZFkjLJhzpe",
      "include_colab_link": true
    },
    "kernelspec": {
      "name": "python3",
      "display_name": "Python 3"
    },
    "language_info": {
      "name": "python"
    }
  },
  "cells": [
    {
      "cell_type": "markdown",
      "metadata": {
        "id": "view-in-github",
        "colab_type": "text"
      },
      "source": [
        "<a href=\"https://colab.research.google.com/github/slendy21/PROGCOM-B/blob/main/Clase_2_Estructuras_de_repetici%C3%B3n.ipynb\" target=\"_parent\"><img src=\"https://colab.research.google.com/assets/colab-badge.svg\" alt=\"Open In Colab\"/></a>"
      ]
    },
    {
      "cell_type": "markdown",
      "source": [],
      "metadata": {
        "id": "LmLrAyXuyQor"
      }
    },
    {
      "cell_type": "markdown",
      "source": [
        "##Listas\n",
        "\n",
        "*   Son un conjunto de tipo de datos, **indexado** , separado por comas, y\n",
        "encerrado entre [ ].\n",
        "*   Todos los elementos dentro de una lista, se empiezan a contar desde 0.\n",
        "\n",
        "###Creación de listas\n",
        "\n",
        "*   Forma general: listas=[ ]\n",
        "*   Forma manual: animales=[\"gato\", \"perro\", \"zorro\", \"oso\"]\n",
        "*   Por conversión: número=list(rangel(10))\n",
        "\n",
        "\n",
        "\n",
        "\n"
      ],
      "metadata": {
        "id": "7TIJmWZWvwNE"
      }
    },
    {
      "cell_type": "markdown",
      "source": [
        "#Estructura de repetición\n",
        "Se emplean cuando se desea repetir una parte del código, dada una condición"
      ],
      "metadata": {
        "id": "0RjrbZhMlbYL"
      }
    },
    {
      "cell_type": "code",
      "source": [
        "lista=[]"
      ],
      "metadata": {
        "id": "9ApmHP4sxBU7"
      },
      "execution_count": null,
      "outputs": []
    },
    {
      "cell_type": "code",
      "source": [
        "type(lista)"
      ],
      "metadata": {
        "colab": {
          "base_uri": "https://localhost:8080/"
        },
        "id": "Xhc-Z_WKxEJz",
        "outputId": "5fa711bf-5a97-410c-db28-bfaaeb862fc9"
      },
      "execution_count": null,
      "outputs": [
        {
          "output_type": "execute_result",
          "data": {
            "text/plain": [
              "list"
            ]
          },
          "metadata": {},
          "execution_count": 3
        }
      ]
    },
    {
      "cell_type": "code",
      "source": [
        "zorro=(1,2,3,4)\n",
        "animales=[\"gato\", \"perro\", zorro, \"oso\"]\n",
        "animales"
      ],
      "metadata": {
        "colab": {
          "base_uri": "https://localhost:8080/"
        },
        "id": "iLIkbLOzxfTD",
        "outputId": "4a2b65b6-9871-472b-c8dc-0ac7766e1be5"
      },
      "execution_count": null,
      "outputs": [
        {
          "output_type": "execute_result",
          "data": {
            "text/plain": [
              "['gato', 'perro', (1, 2, 3, 4), 'oso']"
            ]
          },
          "metadata": {},
          "execution_count": 1
        }
      ]
    },
    {
      "cell_type": "code",
      "source": [
        "type(zorro)"
      ],
      "metadata": {
        "colab": {
          "base_uri": "https://localhost:8080/"
        },
        "id": "12w4RGKDxxET",
        "outputId": "8b98a7cb-8f24-48ed-b43e-55e0a449c0be"
      },
      "execution_count": null,
      "outputs": [
        {
          "output_type": "execute_result",
          "data": {
            "text/plain": [
              "tuple"
            ]
          },
          "metadata": {},
          "execution_count": 4
        }
      ]
    },
    {
      "cell_type": "code",
      "source": [
        "número=list(range(1,8))\n",
        "número"
      ],
      "metadata": {
        "colab": {
          "base_uri": "https://localhost:8080/"
        },
        "id": "Lt8snqNOyv57",
        "outputId": "3d9ce7bd-5386-4fae-f22c-537d28647e5d"
      },
      "execution_count": 1,
      "outputs": [
        {
          "output_type": "execute_result",
          "data": {
            "text/plain": [
              "[1, 2, 3, 4, 5, 6, 7]"
            ]
          },
          "metadata": {},
          "execution_count": 1
        }
      ]
    },
    {
      "cell_type": "code",
      "source": [
        "range(10)"
      ],
      "metadata": {
        "colab": {
          "base_uri": "https://localhost:8080/"
        },
        "id": "hjYjrE7Fy6fi",
        "outputId": "83a73281-8884-49c1-9c0b-bcb11994986a"
      },
      "execution_count": null,
      "outputs": [
        {
          "output_type": "execute_result",
          "data": {
            "text/plain": [
              "range(0, 10)"
            ]
          },
          "metadata": {},
          "execution_count": 5
        }
      ]
    },
    {
      "cell_type": "markdown",
      "source": [
        "##Estructura para - for\n",
        "\n",
        "Se usa cuando\n",
        "\n",
        "*   se sabe **cuántas veces** se repite una acción\n",
        "*   Está compuesta por un contador y una condición.\n",
        "*   **contador**: Identifica cuántas veces se va a repetir el bucle y con qué frecuencia\n",
        "*   **condicción**: Evalúa cuándo se detiene.\n",
        "\n",
        "Por definición:\n",
        "for variable in range(vi, vf+1, paso): aquí se repite parte del código\n",
        "\n",
        "Donde:\n",
        "1.   vi: condición inicial, donde arranco a contar\n",
        "2.   vf+1: condición final donde dejo de contar+1\n",
        "3.   paso: Frecuencia de conteo\n",
        "\n",
        "for para recorrida de lista\n",
        "flor=[\"amapalo\",\"rosa\",\"tulipan\"\"orquidea\"]\n",
        "*   El para va a iterar tantas veces como elementos tenga ls lista\n",
        "*   variable dentro del para, toma como valor, cada elemento de la lista\n",
        "*   Elemento de lista\n",
        "\n",
        "\n",
        "```\n",
        "# for variable in lista:\n",
        " variable\n",
        "```\n",
        "\n",
        "\n",
        "                                                                                                                                                                                                                                                                                                                                                                                                                                                                                                                                       \n",
        "\n",
        "\n",
        "\n",
        "\n",
        "\n"
      ],
      "metadata": {
        "id": "XVSmBNbKlnGq"
      }
    },
    {
      "cell_type": "code",
      "source": [
        "#creando una lista de nombre flor\n",
        "flor=[\"amapola\",\"rosa\",\"tulipan\"\"orquidea\"]\n",
        "flores=5\n",
        "for flores in flor:\n",
        "  print(flores)\n",
        "  if flores==\"tulipan\":\n",
        "     break#Rompe la iteración"
      ],
      "metadata": {
        "colab": {
          "base_uri": "https://localhost:8080/"
        },
        "id": "YMdW_4Jq0eCx",
        "outputId": "f968cced-f76b-4828-eeaf-b9bc6f837ea9"
      },
      "execution_count": 4,
      "outputs": [
        {
          "output_type": "stream",
          "name": "stdout",
          "text": [
            "amapola\n",
            "rosa\n",
            "tulipanorquidea\n"
          ]
        }
      ]
    },
    {
      "cell_type": "code",
      "source": [
        "for nombres in range(5):\n",
        " name.append=input(\"ingrese su nombre:   \")"
      ],
      "metadata": {
        "id": "_dkCbCgSQx2G"
      },
      "execution_count": null,
      "outputs": []
    },
    {
      "cell_type": "code",
      "source": [],
      "metadata": {
        "id": "HBiXHtDIRQuU"
      },
      "execution_count": null,
      "outputs": []
    },
    {
      "cell_type": "markdown",
      "source": [
        "##Estructura while\n",
        "*   Se emplea cuando **NO SE SABE** cuantas veces se debe repetir una acción, pero si se conoce su condición de parada (CP).\n",
        "*   Condición inicial: Dónde arranca el ciclo\n",
        "*   Condición final (parada): Que indica dónde se detiene el ciclo\n",
        "*   Modificador de condición inicial\n",
        "\n",
        "Estructura general del mientras\n",
        "\n",
        "```\n",
        "condición inicial\n",
        "while (condición==condición final)\n",
        ":\n",
        " modificador de condición inical\n",
        "```\n",
        "Modificadores de condición inicial\n",
        "\n",
        "*   Banderas: son booleanos\n",
        "*   Son preguntas\n",
        "*   Son contadores o acumuladores\n",
        "\n",
        "\n",
        "\n",
        "\n",
        "\n",
        "\n",
        "\n",
        "\n"
      ],
      "metadata": {
        "id": "S0SekyGg1hbB"
      }
    }
  ]
}