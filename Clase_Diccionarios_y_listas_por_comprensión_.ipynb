{
  "nbformat": 4,
  "nbformat_minor": 0,
  "metadata": {
    "colab": {
      "provenance": [],
      "authorship_tag": "ABX9TyPJMGHNC8npAYeZHCqZt6jX",
      "include_colab_link": true
    },
    "kernelspec": {
      "name": "python3",
      "display_name": "Python 3"
    },
    "language_info": {
      "name": "python"
    }
  },
  "cells": [
    {
      "cell_type": "markdown",
      "metadata": {
        "id": "view-in-github",
        "colab_type": "text"
      },
      "source": [
        "<a href=\"https://colab.research.google.com/github/slendy21/PROGCOM-B/blob/main/Clase_Diccionarios_y_listas_por_comprensi%C3%B3n_.ipynb\" target=\"_parent\"><img src=\"https://colab.research.google.com/assets/colab-badge.svg\" alt=\"Open In Colab\"/></a>"
      ]
    },
    {
      "cell_type": "markdown",
      "source": [
        "##Diccionarios\n",
        "Estructura de datos que almacenan valores\n",
        "\n",
        "sintaxis\n",
        "\n",
        "\n",
        "nombre_diccionario={\"llave\":valor}\n",
        "Llave: **Siempre** tiene que ser alfanumerico.\n",
        "Valor: Cualquier tipo de dato\n",
        "\n"
      ],
      "metadata": {
        "id": "WguiS5jw7uiG"
      }
    },
    {
      "cell_type": "code",
      "source": [
        "liga_justicia={\"superhéroes\": [\"Batman\",\"Superman\",\"WonderWoman\"],\"identidades\":[\"Bruce Wayne\",\"Clark Kent\",\"Diana Prince\"]}"
      ],
      "metadata": {
        "id": "OqwvfEtO744G"
      },
      "execution_count": 7,
      "outputs": []
    },
    {
      "cell_type": "code",
      "source": [
        "type(liga_justicia)"
      ],
      "metadata": {
        "colab": {
          "base_uri": "https://localhost:8080/"
        },
        "id": "Hgb7svUh78Vl",
        "outputId": "6f9f4947-4ddc-4efa-ea08-3278a6e3662d"
      },
      "execution_count": 8,
      "outputs": [
        {
          "output_type": "execute_result",
          "data": {
            "text/plain": [
              "dict"
            ]
          },
          "metadata": {},
          "execution_count": 8
        }
      ]
    },
    {
      "cell_type": "code",
      "source": [
        "liga_justicia"
      ],
      "metadata": {
        "colab": {
          "base_uri": "https://localhost:8080/"
        },
        "id": "TDa3m87e7-zm",
        "outputId": "826f44ad-406d-4c94-948e-d0d4fd934205"
      },
      "execution_count": 9,
      "outputs": [
        {
          "output_type": "execute_result",
          "data": {
            "text/plain": [
              "{'superhéroes': ['Batman', 'Superman', 'WonderWoman'],\n",
              " 'identidades': ['Bruce Wayne', 'Clark Kent', 'Diana Prince']}"
            ]
          },
          "metadata": {},
          "execution_count": 9
        }
      ]
    },
    {
      "cell_type": "markdown",
      "source": [
        "Los diccionarios **NO** tienen indexación"
      ],
      "metadata": {
        "id": "2vJe4Fgh8Bg9"
      }
    },
    {
      "cell_type": "code",
      "source": [
        "liga_justicia{0}"
      ],
      "metadata": {
        "colab": {
          "base_uri": "https://localhost:8080/",
          "height": 106
        },
        "id": "qbeZQ8Sg8GNV",
        "outputId": "ec58b579-a415-4d50-e4fc-c6b7f5464a3c"
      },
      "execution_count": 11,
      "outputs": [
        {
          "output_type": "error",
          "ename": "SyntaxError",
          "evalue": "invalid syntax (ipython-input-591462058.py, line 1)",
          "traceback": [
            "\u001b[0;36m  File \u001b[0;32m\"/tmp/ipython-input-591462058.py\"\u001b[0;36m, line \u001b[0;32m1\u001b[0m\n\u001b[0;31m    liga_justicia{0}\u001b[0m\n\u001b[0m                 ^\u001b[0m\n\u001b[0;31mSyntaxError\u001b[0m\u001b[0;31m:\u001b[0m invalid syntax\n"
          ]
        }
      ]
    },
    {
      "cell_type": "code",
      "source": [
        "liga_justicia[\"superhéroes\"]"
      ],
      "metadata": {
        "colab": {
          "base_uri": "https://localhost:8080/"
        },
        "id": "NLdEiR_L8IOV",
        "outputId": "81b23067-3a6b-492d-b56c-001f63f92e82"
      },
      "execution_count": 12,
      "outputs": [
        {
          "output_type": "execute_result",
          "data": {
            "text/plain": [
              "['Batman', 'Superman', 'WonderWoman']"
            ]
          },
          "metadata": {},
          "execution_count": 12
        }
      ]
    },
    {
      "cell_type": "code",
      "source": [
        "liga_justicia[\"identidades\"][2]"
      ],
      "metadata": {
        "colab": {
          "base_uri": "https://localhost:8080/",
          "height": 35
        },
        "id": "4rjOnrrZ8Le9",
        "outputId": "b92cfc01-843c-40e2-c8b6-1effa3727724"
      },
      "execution_count": 13,
      "outputs": [
        {
          "output_type": "execute_result",
          "data": {
            "text/plain": [
              "'Diana Prince'"
            ],
            "application/vnd.google.colaboratory.intrinsic+json": {
              "type": "string"
            }
          },
          "metadata": {},
          "execution_count": 13
        }
      ]
    },
    {
      "cell_type": "markdown",
      "source": [
        "#Funciones asociadas a los diccionarios"
      ],
      "metadata": {
        "id": "VWQQe3Y18TuV"
      }
    },
    {
      "cell_type": "markdown",
      "source": [
        "##1. Clean(): Elimina todos los elementos del diccionario\n",
        "Sintaxis\n",
        "\n",
        "diccionario.Clear()"
      ],
      "metadata": {
        "id": "WgDQfJ408UyN"
      }
    },
    {
      "cell_type": "code",
      "source": [
        "liga_justicia.clear()\n",
        "liga_justicia"
      ],
      "metadata": {
        "colab": {
          "base_uri": "https://localhost:8080/"
        },
        "id": "-fasFsZH8YEN",
        "outputId": "0c3f4c42-63b3-411a-b89f-cbf50b6bc0dc"
      },
      "execution_count": 14,
      "outputs": [
        {
          "output_type": "execute_result",
          "data": {
            "text/plain": [
              "{}"
            ]
          },
          "metadata": {},
          "execution_count": 14
        }
      ]
    },
    {
      "cell_type": "markdown",
      "source": [
        "##2.Pop(): Sacas a un héroe del diccionario y dice su nombre"
      ],
      "metadata": {
        "id": "HNwq-cp-8a9l"
      }
    },
    {
      "cell_type": "code",
      "source": [
        "liga_justicia.pop(\"superhéroes\")"
      ],
      "metadata": {
        "colab": {
          "base_uri": "https://localhost:8080/",
          "height": 141
        },
        "id": "L4XvlGRz8dWd",
        "outputId": "6dfa9f8e-fa03-4460-a000-2b48b462bc89"
      },
      "execution_count": 15,
      "outputs": [
        {
          "output_type": "error",
          "ename": "KeyError",
          "evalue": "'superhéroes'",
          "traceback": [
            "\u001b[0;31m---------------------------------------------------------------------------\u001b[0m",
            "\u001b[0;31mKeyError\u001b[0m                                  Traceback (most recent call last)",
            "\u001b[0;32m/tmp/ipython-input-80889950.py\u001b[0m in \u001b[0;36m<cell line: 0>\u001b[0;34m()\u001b[0m\n\u001b[0;32m----> 1\u001b[0;31m \u001b[0mliga_justicia\u001b[0m\u001b[0;34m.\u001b[0m\u001b[0mpop\u001b[0m\u001b[0;34m(\u001b[0m\u001b[0;34m\"superhéroes\"\u001b[0m\u001b[0;34m)\u001b[0m\u001b[0;34m\u001b[0m\u001b[0;34m\u001b[0m\u001b[0m\n\u001b[0m",
            "\u001b[0;31mKeyError\u001b[0m: 'superhéroes'"
          ]
        }
      ]
    },
    {
      "cell_type": "code",
      "source": [
        "liga_justicia"
      ],
      "metadata": {
        "colab": {
          "base_uri": "https://localhost:8080/"
        },
        "id": "a_cQuibS8frV",
        "outputId": "e38f8b70-a586-47a5-f30a-3d588e452458"
      },
      "execution_count": 16,
      "outputs": [
        {
          "output_type": "execute_result",
          "data": {
            "text/plain": [
              "{}"
            ]
          },
          "metadata": {},
          "execution_count": 16
        }
      ]
    },
    {
      "cell_type": "code",
      "source": [
        "supervillanos=[\"Brainiac\",\"Flash reverso\",\"guasón\"]"
      ],
      "metadata": {
        "id": "nUFr3fyi8lmE"
      },
      "execution_count": 18,
      "outputs": []
    },
    {
      "cell_type": "markdown",
      "source": [
        "##3.Copy(): Hace una copia del diccionario"
      ],
      "metadata": {
        "id": "yibJ1yws8oZt"
      }
    },
    {
      "cell_type": "code",
      "source": [
        "justicia_joven={}\n",
        "justicia_joven=liga_justicia.copy()\n",
        "justicia_joven"
      ],
      "metadata": {
        "colab": {
          "base_uri": "https://localhost:8080/"
        },
        "id": "uUkrY80O8phc",
        "outputId": "5fd50644-ecca-4fe2-ded7-6d8a44474ff9"
      },
      "execution_count": 19,
      "outputs": [
        {
          "output_type": "execute_result",
          "data": {
            "text/plain": [
              "{}"
            ]
          },
          "metadata": {},
          "execution_count": 19
        }
      ]
    },
    {
      "cell_type": "code",
      "source": [
        "justicie_gank=liga_justicia\n",
        "justicie_gank"
      ],
      "metadata": {
        "colab": {
          "base_uri": "https://localhost:8080/"
        },
        "id": "bsAAjVGb8shd",
        "outputId": "2bb7e9b4-9a4b-437f-ccec-33720bf4a204"
      },
      "execution_count": 20,
      "outputs": [
        {
          "output_type": "execute_result",
          "data": {
            "text/plain": [
              "{}"
            ]
          },
          "metadata": {},
          "execution_count": 20
        }
      ]
    },
    {
      "cell_type": "markdown",
      "source": [
        "##4.Dict.fromkeys():Crea un nuevo diccionario"
      ],
      "metadata": {
        "id": "-qIeQDQ-8xIV"
      }
    },
    {
      "cell_type": "code",
      "source": [
        "liga_justicia={\"superhéroes\": [\"Batman\",\"Superman\",\"WonderWoman\"],\"identidades\":[\"Bruce Wayne\",\"Clark Kent\",\"Diana Prince\"]}\n",
        "justicia = dict.fromkeys(liga_justicia,0)\n",
        "print(justicia)"
      ],
      "metadata": {
        "colab": {
          "base_uri": "https://localhost:8080/"
        },
        "id": "OyGpiJ4i8x9F",
        "outputId": "8ea67193-1d62-4fbf-c7bb-3354b51d4c7b"
      },
      "execution_count": 21,
      "outputs": [
        {
          "output_type": "stream",
          "name": "stdout",
          "text": [
            "{'superhéroes': 0, 'identidades': 0}\n"
          ]
        }
      ]
    },
    {
      "cell_type": "markdown",
      "source": [
        "5. values(): Son los datos asociados a cada clave dentro de la estructura del diccionario"
      ],
      "metadata": {
        "id": "zmFWuks283wN"
      }
    },
    {
      "cell_type": "code",
      "source": [
        "liga_justicia.values()"
      ],
      "metadata": {
        "colab": {
          "base_uri": "https://localhost:8080/"
        },
        "id": "yDlBfI7587vN",
        "outputId": "ef92129c-ec1a-4cfe-88cc-a9e6d063a86d"
      },
      "execution_count": 22,
      "outputs": [
        {
          "output_type": "execute_result",
          "data": {
            "text/plain": [
              "dict_values([['Batman', 'Superman', 'WonderWoman'], ['Bruce Wayne', 'Clark Kent', 'Diana Prince']])"
            ]
          },
          "metadata": {},
          "execution_count": 22
        }
      ]
    },
    {
      "cell_type": "code",
      "source": [
        "liga_justicia\n"
      ],
      "metadata": {
        "colab": {
          "base_uri": "https://localhost:8080/"
        },
        "id": "XqS0AU_r8-m8",
        "outputId": "2f6175b4-8b70-4a35-c635-f72faee5cb8f"
      },
      "execution_count": 23,
      "outputs": [
        {
          "output_type": "execute_result",
          "data": {
            "text/plain": [
              "{'superhéroes': ['Batman', 'Superman', 'WonderWoman'],\n",
              " 'identidades': ['Bruce Wayne', 'Clark Kent', 'Diana Prince']}"
            ]
          },
          "metadata": {},
          "execution_count": 23
        }
      ]
    },
    {
      "cell_type": "markdown",
      "source": [
        "#PRUEBA DIAGNOSTICA\n",
        "##Parte 3: Funciones y Tipos de Datos"
      ],
      "metadata": {
        "id": "fldOT0y79lj8"
      }
    },
    {
      "cell_type": "markdown",
      "source": [
        "\n",
        "10.  Crea una función que reciba una lista de nombres y retorne cuántos nombres comienzan con vocal.\n",
        "\n",
        "\n"
      ],
      "metadata": {
        "id": "77Pa_-oC9tic"
      }
    },
    {
      "cell_type": "code",
      "source": [
        "def nombres_con_vocal(nombres):\n",
        "    vocales = \"aeiou\"\n",
        "    cantidad = sum([1 for n in nombres if n[0].lower() in vocales])\n",
        "    resultado = {\n",
        "        \"nombres\": nombres,\n",
        "        \"cantidad_con_vocal\": cantidad\n",
        "    }\n",
        "    return resultado\n",
        "\n",
        "print(nombres_con_vocal([\"Ana\", \"Luis\", \"Oscar\", \"Marta\", \"Esteban\"]))\n",
        "print(nombres_con_vocal([\"Pedro\", \"Juan\", \"Sofía\", \"Ignacio\"]))"
      ],
      "metadata": {
        "colab": {
          "base_uri": "https://localhost:8080/"
        },
        "id": "QyeFu9TBBeYQ",
        "outputId": "522de496-8635-482b-eac4-31b28fa41e32"
      },
      "execution_count": 28,
      "outputs": [
        {
          "output_type": "stream",
          "name": "stdout",
          "text": [
            "{'nombres': ['Ana', 'Luis', 'Oscar', 'Marta', 'Esteban'], 'cantidad_con_vocal': 3}\n",
            "{'nombres': ['Pedro', 'Juan', 'Sofía', 'Ignacio'], 'cantidad_con_vocal': 1}\n"
          ]
        }
      ]
    },
    {
      "cell_type": "markdown",
      "source": [
        "11. Crea una función que reciba una lista y retorne otra lista sin elementos repetidos.\n",
        "\n"
      ],
      "metadata": {
        "id": "WGb4f1La9y9U"
      }
    },
    {
      "cell_type": "code",
      "source": [
        "def eliminar_repetidos(lista):\n",
        "    sin_repetidos = [x for i, x in enumerate(lista) if x not in lista[:i]]\n",
        "    resultado = {\n",
        "        \"lista_original\": lista,\n",
        "        \"lista_sin_repetidos\": sin_repetidos\n",
        "    }\n",
        "    return resultado\n",
        "\n",
        "print(eliminar_repetidos([1, 2, 2, 3, 4, 4, 5]))\n",
        "print(eliminar_repetidos([\"Ana\", \"Luis\", \"Ana\", \"Marta\"]))"
      ],
      "metadata": {
        "colab": {
          "base_uri": "https://localhost:8080/"
        },
        "id": "D2oKdh_-Bgz4",
        "outputId": "2b36a27c-fffe-4863-e3dc-5fb2a16d5e94"
      },
      "execution_count": 29,
      "outputs": [
        {
          "output_type": "stream",
          "name": "stdout",
          "text": [
            "{'lista_original': [1, 2, 2, 3, 4, 4, 5], 'lista_sin_repetidos': [1, 2, 3, 4, 5]}\n",
            "{'lista_original': ['Ana', 'Luis', 'Ana', 'Marta'], 'lista_sin_repetidos': ['Ana', 'Luis', 'Marta']}\n"
          ]
        }
      ]
    },
    {
      "cell_type": "markdown",
      "source": [
        "\n",
        "\n",
        "12.   Crea una función que reciba una lista de números y retorne solo los que son primos.\n",
        "\n",
        "\n"
      ],
      "metadata": {
        "id": "8-9uNQ_v93XU"
      }
    },
    {
      "cell_type": "code",
      "source": [
        "def numeros_primos(lista):\n",
        "    primos = [n for n in lista if n > 1 and all(n % d != 0 for d in range(2, n))]\n",
        "    resultado = {\n",
        "        \"lista\": lista,\n",
        "        \"primos\": primos\n",
        "    }\n",
        "    return resultado\n",
        "\n",
        "print(numeros_primos([1, 2, 3, 4, 5, 6, 7, 8, 9, 10]))\n",
        "print(numeros_primos([11, 13, 15, 17, 18, 19]))"
      ],
      "metadata": {
        "colab": {
          "base_uri": "https://localhost:8080/"
        },
        "id": "ZxuzvQS1Bk5R",
        "outputId": "861c51bf-47d6-43ba-8142-33750b1749cf"
      },
      "execution_count": 30,
      "outputs": [
        {
          "output_type": "stream",
          "name": "stdout",
          "text": [
            "{'lista': [1, 2, 3, 4, 5, 6, 7, 8, 9, 10], 'primos': [2, 3, 5, 7]}\n",
            "{'lista': [11, 13, 15, 17, 18, 19], 'primos': [11, 13, 17, 19]}\n"
          ]
        }
      ]
    },
    {
      "cell_type": "markdown",
      "source": [
        "\n",
        "\n",
        "13.   Crea una función que reciba un diccionario con claves \"nombre\" y \"edad\" y retorne un mensaje con esos datos.\n",
        "\n"
      ],
      "metadata": {
        "id": "RQKkjvlK98Dk"
      }
    },
    {
      "cell_type": "code",
      "source": [
        "def mensaje_persona(persona):\n",
        "    mensaje = f\"Nombre: {persona['nombre']}, Edad: {persona['edad']}\"\n",
        "    resultado = {\n",
        "        \"persona\": persona,\n",
        "        \"mensaje\": mensaje\n",
        "    }\n",
        "    return resultado\n",
        "\n",
        "print(mensaje_persona({\"nombre\": \"Ana\", \"edad\": 25}))\n",
        "print(mensaje_persona({\"nombre\": \"Luis\", \"edad\": 30}))"
      ],
      "metadata": {
        "colab": {
          "base_uri": "https://localhost:8080/"
        },
        "id": "U3uEVsOZBpbI",
        "outputId": "bb1a3877-2dc4-48ad-f668-d24730d5b68c"
      },
      "execution_count": 31,
      "outputs": [
        {
          "output_type": "stream",
          "name": "stdout",
          "text": [
            "{'persona': {'nombre': 'Ana', 'edad': 25}, 'mensaje': 'Nombre: Ana, Edad: 25'}\n",
            "{'persona': {'nombre': 'Luis', 'edad': 30}, 'mensaje': 'Nombre: Luis, Edad: 30'}\n"
          ]
        }
      ]
    },
    {
      "cell_type": "markdown",
      "source": [
        "\n",
        "14. Crea una función que reciba un diccionario de productos (clave: nombre, valor: precio) y retorne el\n",
        "total.\n",
        "\n"
      ],
      "metadata": {
        "id": "KNxsoySI66Mf"
      }
    },
    {
      "cell_type": "code",
      "source": [
        "def total_productos(productos):\n",
        "    total = sum([precio for precio in productos.values()])\n",
        "    resultado = {\n",
        "        \"productos\": productos,\n",
        "        \"total\": total\n",
        "    }\n",
        "    return resultado\n",
        "\n",
        "print(total_productos({\"pan\": 1500, \"leche\": 3000, \"huevos\": 5000}))\n",
        "print(total_productos({\"arroz\": 2500, \"pollo\": 8000}))"
      ],
      "metadata": {
        "colab": {
          "base_uri": "https://localhost:8080/"
        },
        "id": "Yhe0qQBT_xkK",
        "outputId": "250f79a1-e354-47ae-8004-0d68cb1b2939"
      },
      "execution_count": 24,
      "outputs": [
        {
          "output_type": "stream",
          "name": "stdout",
          "text": [
            "{'productos': {'pan': 1500, 'leche': 3000, 'huevos': 5000}, 'total': 9500}\n",
            "{'productos': {'arroz': 2500, 'pollo': 8000}, 'total': 10500}\n"
          ]
        }
      ]
    },
    {
      "cell_type": "markdown",
      "source": [
        "\n",
        "15.  Crea una función que reciba un diccionario de estudiantes (clave: nombre, valor: nota) y retorne el\n",
        "promedio.\n",
        "\n",
        "\n"
      ],
      "metadata": {
        "id": "a_x2LYZK6yFm"
      }
    },
    {
      "cell_type": "code",
      "source": [
        "def promedio_estudiantes(estudiantes):\n",
        "    promedio = sum([nota for nota in estudiantes.values()]) / len(estudiantes)\n",
        "    resultado = {\n",
        "        \"estudiantes\": estudiantes,\n",
        "        \"promedio\": promedio\n",
        "    }\n",
        "    return resultado\n",
        "\n",
        "print(promedio_estudiantes({\"Ana\": 4.5, \"Luis\": 3.8, \"Marta\": 5.0}))\n",
        "print(promedio_estudiantes({\"Pedro\": 2.5, \"Juan\": 3.0, \"Sofía\": 4.0}))"
      ],
      "metadata": {
        "colab": {
          "base_uri": "https://localhost:8080/"
        },
        "id": "Lvo0vLSoACOq",
        "outputId": "2304d3a3-f030-4a31-8e28-cec3bb3b1a96"
      },
      "execution_count": 25,
      "outputs": [
        {
          "output_type": "stream",
          "name": "stdout",
          "text": [
            "{'estudiantes': {'Ana': 4.5, 'Luis': 3.8, 'Marta': 5.0}, 'promedio': 4.433333333333334}\n",
            "{'estudiantes': {'Pedro': 2.5, 'Juan': 3.0, 'Sofía': 4.0}, 'promedio': 3.1666666666666665}\n"
          ]
        }
      ]
    },
    {
      "cell_type": "markdown",
      "source": [
        "\n",
        "\n",
        "16.   Crea una función que reciba un diccionario y un nombre, y retorne la nota si existe o &#39;no\n",
        "encontrado&#39;.\n",
        "\n",
        "\n"
      ],
      "metadata": {
        "id": "g2hamrCc7MQu"
      }
    },
    {
      "cell_type": "code",
      "source": [
        "def buscar_nota(estudiantes, nombre):\n",
        "    resultado = {\n",
        "        \"nombre\": nombre,\n",
        "        \"nota\": estudiantes.get(nombre, \"no encontrado\")\n",
        "    }\n",
        "    return resultado\n",
        "\n",
        "print(buscar_nota({\"Ana\": 4.5, \"Luis\": 3.8, \"Marta\": 5.0}, \"Luis\"))\n",
        "print(buscar_nota({\"Ana\": 4.5, \"Luis\": 3.8, \"Marta\": 5.0}, \"Pedro\"))"
      ],
      "metadata": {
        "colab": {
          "base_uri": "https://localhost:8080/"
        },
        "id": "HfRQnQa4AQ5x",
        "outputId": "381820de-df50-4427-bb6d-836222010df1"
      },
      "execution_count": 26,
      "outputs": [
        {
          "output_type": "stream",
          "name": "stdout",
          "text": [
            "{'nombre': 'Luis', 'nota': 3.8}\n",
            "{'nombre': 'Pedro', 'nota': 'no encontrado'}\n"
          ]
        }
      ]
    },
    {
      "cell_type": "markdown",
      "source": [
        "\n",
        "\n",
        "17.   Crea una función que reciba un diccionario y retorne el nombre del estudiante con mayor nota.\n",
        "\n",
        "\n"
      ],
      "metadata": {
        "id": "WS2tl3xh7WUu"
      }
    },
    {
      "cell_type": "code",
      "source": [
        "def mejor_estudiante(estudiantes):\n",
        "    nombre = max(estudiantes, key=lambda x: estudiantes[x])\n",
        "    resultado = {\n",
        "        \"estudiantes\": estudiantes,\n",
        "        \"mejor_estudiante\": nombre,\n",
        "        \"nota\": estudiantes[nombre]\n",
        "    }\n",
        "    return resultado\n",
        "\n",
        "print(mejor_estudiante({\"Ana\": 4.5, \"Luis\": 3.8, \"Marta\": 5.0}))\n",
        "print(mejor_estudiante({\"Pedro\": 2.5, \"Juan\": 3.0, \"Sofía\": 4.0}))"
      ],
      "metadata": {
        "colab": {
          "base_uri": "https://localhost:8080/"
        },
        "id": "3HDCo_k4AWGJ",
        "outputId": "1b035674-e3ef-4e74-9811-7ef5fc340c4c"
      },
      "execution_count": 27,
      "outputs": [
        {
          "output_type": "stream",
          "name": "stdout",
          "text": [
            "{'estudiantes': {'Ana': 4.5, 'Luis': 3.8, 'Marta': 5.0}, 'mejor_estudiante': 'Marta', 'nota': 5.0}\n",
            "{'estudiantes': {'Pedro': 2.5, 'Juan': 3.0, 'Sofía': 4.0}, 'mejor_estudiante': 'Sofía', 'nota': 4.0}\n"
          ]
        }
      ]
    }
  ]
}