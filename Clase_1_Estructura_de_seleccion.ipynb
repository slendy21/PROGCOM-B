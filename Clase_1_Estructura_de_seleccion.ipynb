{
  "nbformat": 4,
  "nbformat_minor": 0,
  "metadata": {
    "colab": {
      "provenance": []
    },
    "kernelspec": {
      "name": "python3",
      "display_name": "Python 3"
    },
    "language_info": {
      "name": "python"
    }
  },
  "cells": [
    {
      "cell_type": "markdown",
      "source": [
        "##Estructuras de selección\n",
        "\n",
        "Se emplean cuando quiero evaluar una condición. El resultado de la evaluacion de esta condición siempre se da en Booleano (V o F)"
      ],
      "metadata": {
        "id": "PCct6sbcLWAA"
      }
    },
    {
      "cell_type": "markdown",
      "source": [
        "#Estructura if-else\n",
        "\n",
        "if (condición):\n",
        " entro aquí, si la condicición dio V\n",
        " else:\n",
        "  entro aquí, si la condición = F"
      ],
      "metadata": {
        "id": "RRH8uhyBLp_X"
      }
    },
    {
      "cell_type": "markdown",
      "source": [
        "#Estructura de decisión múltiple if-elif-else\n",
        "\n",
        "if (cond1):\n",
        "  si con1 es verdadero, entro aquí\n",
        "elif (cond2):\n",
        "  si cond1 es falso PERO cond2 es verdadero, entro a quí\n",
        "elid (cond3):\n",
        "  si cond1 y cond2 son falso PERO cond3 es verdadero, entro aquí\n",
        "else: si cond1 y cond2 y cond3 y cond n son falsas, entrará aquí"
      ],
      "metadata": {
        "id": "IVsNAvl_Osl2"
      }
    },
    {
      "cell_type": "markdown",
      "source": [
        "#Operador Terniario\n",
        "Programar una estructura de selección en una sola línea de código\n",
        "\n",
        "(Lo que se debe ejecutar, si la condicción es verdadera) if (condicción) else (lo que se debe ejecutar, si la condicción es falsa)\n"
      ],
      "metadata": {
        "id": "f-hiMFznQ7hb"
      }
    },
    {
      "cell_type": "markdown",
      "source": [
        "#Prueba Diágnostica\n",
        "\n",
        "##Parte 1: Estructuras de Decisión (10 ejercicios)\n",
        "\n",
        "1 Escribe un programa que reciba un número e indique si es positivo."
      ],
      "metadata": {
        "id": "NiFi5249RAbT"
      }
    },
    {
      "cell_type": "code",
      "source": [
        "num = float(input(\"Ingrese un número: \"))\n",
        "if num > 0:\n",
        "    print(\"El número es positivo.\")\n",
        "else:\n",
        "    print(\"El número no es positivo.\")"
      ],
      "metadata": {
        "colab": {
          "base_uri": "https://localhost:8080/"
        },
        "id": "uQMmLLwpRIxb",
        "outputId": "012be70f-e2b7-4294-b7c5-14ddc090bbd1"
      },
      "execution_count": 5,
      "outputs": [
        {
          "output_type": "stream",
          "name": "stdout",
          "text": [
            "Ingrese un número: 1\n",
            "El número es positivo.\n"
          ]
        }
      ]
    },
    {
      "cell_type": "code",
      "source": [
        "num = float(input(\"Ingrese un número: \"))\n",
        "if num > 0:\n",
        "    print(\"El número es positivo.\")\n",
        "elif num < 0:\n",
        "    print(\"El número es negativo.\")\n",
        "else:\n",
        "    print(\"El número es cero.\")"
      ],
      "metadata": {
        "colab": {
          "base_uri": "https://localhost:8080/"
        },
        "id": "RhPsXOOcRPd7",
        "outputId": "ea92fd5c-3f9e-4ad8-fdd3-bcfe03eee51c"
      },
      "execution_count": 6,
      "outputs": [
        {
          "output_type": "stream",
          "name": "stdout",
          "text": [
            "Ingrese un número: 5\n",
            "El número es positivo.\n"
          ]
        }
      ]
    },
    {
      "cell_type": "code",
      "source": [
        "num = float(input(\"Ingrese un número: \"))\n",
        "print(\"El número es positivo.\") if num > 0 else print(\"El número no es positivo.\")"
      ],
      "metadata": {
        "colab": {
          "base_uri": "https://localhost:8080/"
        },
        "id": "WfUm9ERkZXfM",
        "outputId": "6e9f24fd-0a3d-459c-dd8d-76d788d2377d"
      },
      "execution_count": 15,
      "outputs": [
        {
          "output_type": "stream",
          "name": "stdout",
          "text": [
            "Ingrese un número: 5\n",
            "El número es positivo.\n"
          ]
        }
      ]
    },
    {
      "cell_type": "markdown",
      "source": [
        "2 Escribe un programa que reciba una edad y determine si la persona es mayor de edad."
      ],
      "metadata": {
        "id": "owiNmbgDRdwz"
      }
    },
    {
      "cell_type": "code",
      "source": [
        "edad = int(input(\"Ingrese su edad: \"))\n",
        "if edad >= 18:\n",
        "    print(\"Es mayor de edad.\")\n",
        "else:\n",
        "    print(\"No es mayor de edad.\")"
      ],
      "metadata": {
        "colab": {
          "base_uri": "https://localhost:8080/"
        },
        "id": "l3UX8U9PRgOb",
        "outputId": "2c57010b-e9bd-43b9-bcdf-2cccff049c52"
      },
      "execution_count": 33,
      "outputs": [
        {
          "output_type": "stream",
          "name": "stdout",
          "text": [
            "Ingrese su edad: 18\n",
            "Es mayor de edad.\n"
          ]
        }
      ]
    },
    {
      "cell_type": "code",
      "source": [
        "edad = int(input(\"Ingrese su edad: \"))\n",
        "if edad >= 18:\n",
        "    print(\"Es mayor de edad.\")\n",
        "elif edad >= 0:\n",
        "    print(\"Es menor de edad.\")\n",
        "else:\n",
        "    print(\"Edad inválida.\")"
      ],
      "metadata": {
        "colab": {
          "base_uri": "https://localhost:8080/"
        },
        "id": "oQrepxQ0RjIk",
        "outputId": "d5fbcad8-23bd-4ef5-a50f-c9917d3c4f62"
      },
      "execution_count": 34,
      "outputs": [
        {
          "output_type": "stream",
          "name": "stdout",
          "text": [
            "Ingrese su edad: 17\n",
            "Es menor de edad.\n"
          ]
        }
      ]
    },
    {
      "cell_type": "code",
      "source": [
        "edad = int(input(\"Ingrese su edad: \"))\n",
        "print(\"Es mayor de edad.\") if edad >= 18 else print(\"No es mayor de edad.\")"
      ],
      "metadata": {
        "colab": {
          "base_uri": "https://localhost:8080/"
        },
        "id": "UZy7pA1MZZNW",
        "outputId": "641499e0-edad-426b-d07e-80a4c4cfd184"
      },
      "execution_count": 17,
      "outputs": [
        {
          "output_type": "stream",
          "name": "stdout",
          "text": [
            "Ingrese su edad: 25\n",
            "Es mayor de edad.\n"
          ]
        }
      ]
    },
    {
      "cell_type": "markdown",
      "source": [
        "3 Escribe un programa que reciba dos números e imprima el mayor."
      ],
      "metadata": {
        "id": "eyYEydR-Ro8L"
      }
    },
    {
      "cell_type": "code",
      "source": [
        "a = float(input(\"Ingrese el primer número: \"))\n",
        "b = float(input(\"Ingrese el segundo número: \"))\n",
        "if a > b:\n",
        "    print(\"El mayor es:\", a)\n",
        "elif b > a:\n",
        "    print(\"El mayor es:\", b)\n",
        "else:\n",
        "    print(\"Son iguales.\")"
      ],
      "metadata": {
        "colab": {
          "base_uri": "https://localhost:8080/"
        },
        "id": "myKqtSUlRrZq",
        "outputId": "08d93d6e-f9f0-4aac-d724-1ceaf057ffb3"
      },
      "execution_count": 35,
      "outputs": [
        {
          "output_type": "stream",
          "name": "stdout",
          "text": [
            "Ingrese el primer número: 4\n",
            "Ingrese el segundo número: 8\n",
            "El mayor es: 8.0\n"
          ]
        }
      ]
    },
    {
      "cell_type": "code",
      "source": [
        "a = float(input(\"Ingrese el primer número: \"))\n",
        "b = float(input(\"Ingrese el segundo número: \"))\n",
        "if a > b:\n",
        "    print(\"El mayor es:\", a)\n",
        "elif b > a:\n",
        "    print(\"El mayor es:\", b)\n",
        "else:\n",
        "    print(\"Son iguales.\")"
      ],
      "metadata": {
        "colab": {
          "base_uri": "https://localhost:8080/"
        },
        "id": "UktnmVpmRuT7",
        "outputId": "41fac0dd-7c4c-4bbe-9ef5-70319788c603"
      },
      "execution_count": 36,
      "outputs": [
        {
          "output_type": "stream",
          "name": "stdout",
          "text": [
            "Ingrese el primer número: 8\n",
            "Ingrese el segundo número: 7\n",
            "El mayor es: 8.0\n"
          ]
        }
      ]
    },
    {
      "cell_type": "code",
      "source": [
        "a = float(input(\"Ingrese el primer número: \"))\n",
        "b = float(input(\"Ingrese el segundo número: \"))\n",
        "print(f\"El mayor es: {a}\") if a > b else print(f\"El mayor es: {b}\") if b > a else print(\"Son iguales.\")"
      ],
      "metadata": {
        "colab": {
          "base_uri": "https://localhost:8080/"
        },
        "id": "s9PgWmxWZhuN",
        "outputId": "41db4956-5240-4661-ba12-3ff6ac194c29"
      },
      "execution_count": 37,
      "outputs": [
        {
          "output_type": "stream",
          "name": "stdout",
          "text": [
            "Ingrese el primer número: 99\n",
            "Ingrese el segundo número: 100\n",
            "El mayor es: 100.0\n"
          ]
        }
      ]
    },
    {
      "cell_type": "markdown",
      "source": [
        "4 Escribe un programa que reciba una calificación (0-100) e indique si es Aprobado (&gt;=60) o\n",
        "Reprobado."
      ],
      "metadata": {
        "id": "Wg86UDkgSAr7"
      }
    },
    {
      "cell_type": "code",
      "source": [
        "calificacion = float(input(\"Ingrese la calificación (0-100): \"))\n",
        "if calificacion >= 60:\n",
        "    print(\"Aprobado\")\n",
        "else:\n",
        "    print(\"Reprobado\")"
      ],
      "metadata": {
        "colab": {
          "base_uri": "https://localhost:8080/"
        },
        "id": "YBNGNcQpSMcK",
        "outputId": "1a4e7e5e-8146-405c-cf27-5c604b35c2af"
      },
      "execution_count": 38,
      "outputs": [
        {
          "output_type": "stream",
          "name": "stdout",
          "text": [
            "Ingrese la calificación (0-100): 50\n",
            "Reprobado\n"
          ]
        }
      ]
    },
    {
      "cell_type": "code",
      "source": [
        "calificacion = float(input(\"Ingrese la calificación (0-100): \"))\n",
        "if calificacion >= 90:\n",
        "    print(\"Excelente\")\n",
        "elif calificacion >= 60:\n",
        "    print(\"Aprobado\")\n",
        "else:\n",
        "    print(\"Reprobado\")"
      ],
      "metadata": {
        "colab": {
          "base_uri": "https://localhost:8080/"
        },
        "id": "x8uKxg01SPdi",
        "outputId": "14b893de-4ea6-42fc-d1f0-fd2974532987"
      },
      "execution_count": 39,
      "outputs": [
        {
          "output_type": "stream",
          "name": "stdout",
          "text": [
            "Ingrese la calificación (0-100): 40\n",
            "Reprobado\n"
          ]
        }
      ]
    },
    {
      "cell_type": "code",
      "source": [
        "calificacion = float(input(\"Ingrese la calificación (0-100): \"))\n",
        "print(\"Aprobado\") if calificacion >= 60 else print(\"Reprobado\")"
      ],
      "metadata": {
        "colab": {
          "base_uri": "https://localhost:8080/"
        },
        "id": "2BaaDHd5Zwru",
        "outputId": "fb6ee9a3-c2e0-4156-98fa-608ad8e6c8ed"
      },
      "execution_count": 19,
      "outputs": [
        {
          "output_type": "stream",
          "name": "stdout",
          "text": [
            "Ingrese la calificación (0-100): 80\n",
            "Aprobado\n"
          ]
        }
      ]
    },
    {
      "cell_type": "markdown",
      "source": [
        "5 Escribe un programa que determine si un número es par o impar."
      ],
      "metadata": {
        "id": "KiSBNzsASTy7"
      }
    },
    {
      "cell_type": "code",
      "source": [
        "n = int(input(\"Ingrese un número: \"))\n",
        "if n % 2 == 0:\n",
        "    print(\"El número es par.\")\n",
        "else:\n",
        "    print(\"El número es impar.\")"
      ],
      "metadata": {
        "colab": {
          "base_uri": "https://localhost:8080/"
        },
        "id": "KFN3-Y6uSWUD",
        "outputId": "0f6c45a1-d8d2-4a18-ca5e-482589e004c8"
      },
      "execution_count": 40,
      "outputs": [
        {
          "output_type": "stream",
          "name": "stdout",
          "text": [
            "Ingrese un número: 7\n",
            "El número es impar.\n"
          ]
        }
      ]
    },
    {
      "cell_type": "code",
      "source": [
        "n = int(input(\"Ingrese un número: \"))\n",
        "if n == 0:\n",
        "    print(\"El número es cero.\")\n",
        "elif n % 2 == 0:\n",
        "    print(\"El número es par.\")\n",
        "else:\n",
        "    print(\"El número es impar.\")"
      ],
      "metadata": {
        "colab": {
          "base_uri": "https://localhost:8080/"
        },
        "id": "u0e7s50NSZMq",
        "outputId": "ca30a164-7214-4896-da78-3277edea2303"
      },
      "execution_count": 41,
      "outputs": [
        {
          "output_type": "stream",
          "name": "stdout",
          "text": [
            "Ingrese un número: 2\n",
            "El número es par.\n"
          ]
        }
      ]
    },
    {
      "cell_type": "code",
      "source": [
        "n = int(input(\"Ingrese un número: \"))\n",
        "print(\"El número es par.\") if n % 2 == 0 else print(\"El número es impar.\")"
      ],
      "metadata": {
        "colab": {
          "base_uri": "https://localhost:8080/"
        },
        "id": "HAfF9RimauCN",
        "outputId": "95795964-7c56-44e4-ac73-3b1e7bd19276"
      },
      "execution_count": 22,
      "outputs": [
        {
          "output_type": "stream",
          "name": "stdout",
          "text": [
            "Ingrese un número: 5\n",
            "El número es impar.\n"
          ]
        }
      ]
    },
    {
      "cell_type": "markdown",
      "source": [
        "6 Escribe un programa que reciba tres números e imprima el mayor de los tres."
      ],
      "metadata": {
        "id": "irIurnfJScQi"
      }
    },
    {
      "cell_type": "code",
      "source": [
        "x = float(input(\"Ingrese el primer número: \"))\n",
        "y = float(input(\"Ingrese el segundo número: \"))\n",
        "z = float(input(\"Ingrese el tercer número: \"))\n",
        "if x >= y and x >= z:\n",
        "    print(\"El mayor es:\", x)\n",
        "elif y >= x and y >= z:\n",
        "    print(\"El mayor es:\", y)\n",
        "else:\n",
        "    print(\"El mayor es:\", z)"
      ],
      "metadata": {
        "colab": {
          "base_uri": "https://localhost:8080/"
        },
        "id": "R6TrDVICSeja",
        "outputId": "f7afcef1-6c7b-4663-aecc-923749874b9e"
      },
      "execution_count": 7,
      "outputs": [
        {
          "output_type": "stream",
          "name": "stdout",
          "text": [
            "Ingrese el primer número: 8\n",
            "Ingrese el segundo número: 9\n",
            "Ingrese el tercer número: 10\n",
            "El mayor es: 10.0\n"
          ]
        }
      ]
    },
    {
      "cell_type": "code",
      "source": [
        "x = float(input(\"Ingrese el primer número: \"))\n",
        "y = float(input(\"Ingrese el segundo número: \"))\n",
        "z = float(input(\"Ingrese el tercer número: \"))\n",
        "print(f\"El mayor es: {x}\") if x >= y and x >= z else print(f\"El mayor es: {y}\") if y >= x and y >= z else print(f\"El mayor es: {z}\")"
      ],
      "metadata": {
        "colab": {
          "base_uri": "https://localhost:8080/"
        },
        "id": "CF94jTdwaZPV",
        "outputId": "ffadfc65-071d-4277-e299-e0fc4a76adf8"
      },
      "execution_count": 21,
      "outputs": [
        {
          "output_type": "stream",
          "name": "stdout",
          "text": [
            "Ingrese el primer número: 5\n",
            "Ingrese el segundo número: 8\n",
            "Ingrese el tercer número: 4\n",
            "El mayor es: 8.0\n"
          ]
        }
      ]
    },
    {
      "cell_type": "markdown",
      "source": [
        "7 Escribe un programa que reciba un año e indique si es bisiesto."
      ],
      "metadata": {
        "id": "SiR-veJeSo5y"
      }
    },
    {
      "cell_type": "code",
      "source": [
        "año=int(input(\"introduzca un año: \"))\n",
        "if (año%4==0 and año%100!=0):\n",
        "  print(f\"{año} es un año bisiesto\")\n",
        "else:\n",
        "  if año%400==0:\n",
        "    print(f\"{año} es un año bisiesto\")\n",
        "  else:\n",
        "    print(f\"{año} NO es un año bisiesto\")"
      ],
      "metadata": {
        "colab": {
          "base_uri": "https://localhost:8080/"
        },
        "id": "58L0rmkhSrVK",
        "outputId": "174fc84d-b855-49f8-ffde-2cb53c6522cd"
      },
      "execution_count": 9,
      "outputs": [
        {
          "output_type": "stream",
          "name": "stdout",
          "text": [
            "introduzca un año: 2003\n",
            "2003 NO es un año bisiesto\n"
          ]
        }
      ]
    },
    {
      "cell_type": "code",
      "source": [
        "if (año%4==0 and año%100!=0):\n",
        "  print(f\"{año} es un año bisiesto\")\n",
        "elif año%400==9:\n",
        "  print(f\"{año} es un año bisiesto\")\n",
        "else:\n",
        "  print(f\"{año} NO es un año bisiesto\")"
      ],
      "metadata": {
        "colab": {
          "base_uri": "https://localhost:8080/"
        },
        "id": "HAG3tS_IU_4I",
        "outputId": "477f4f50-1cf5-49c4-9a22-c7a5a57f9db5"
      },
      "execution_count": 11,
      "outputs": [
        {
          "output_type": "stream",
          "name": "stdout",
          "text": [
            "2003 NO es un año bisiesto\n"
          ]
        }
      ]
    },
    {
      "cell_type": "code",
      "source": [
        "año = int(input(\"Ingrese un año: \"))\n",
        "print(\"Es bisiesto.\") if año % 400 == 0 else print(\"Es bisiesto.\") if año % 4 == 0 and año % 100 != 0 else print(\"NO es bisiesto.\")"
      ],
      "metadata": {
        "colab": {
          "base_uri": "https://localhost:8080/"
        },
        "id": "tboIdCBpdMXD",
        "outputId": "dae1adf6-95f4-4ba6-939e-a0f911abd3c3"
      },
      "execution_count": 44,
      "outputs": [
        {
          "output_type": "stream",
          "name": "stdout",
          "text": [
            "Ingrese un año: 2000\n",
            "Es bisiesto.\n"
          ]
        }
      ]
    },
    {
      "cell_type": "markdown",
      "source": [
        "8 Escribe un programa que reciba una contraseña e indique si cumple con las siguientes reglas: más\n",
        "de 8 caracteres, contiene al menos un número y una letra mayúscula."
      ],
      "metadata": {
        "id": "ToXvCyHpVn-o"
      }
    },
    {
      "cell_type": "code",
      "source": [
        "contrasena = input(\"Ingrese una contraseña: \")\n",
        "tiene_numero = any(c.isdigit() for c in contrasena)\n",
        "tiene_mayuscula = any(c.isupper() for c in contrasena)\n",
        "if len(contrasena) > 8 and tiene_numero and tiene_mayuscula:\n",
        "    print(\"Contraseña válida.\")\n",
        "else:\n",
        "    print(\"Contraseña inválida.\")"
      ],
      "metadata": {
        "colab": {
          "base_uri": "https://localhost:8080/"
        },
        "id": "9f1Pxpu1VroZ",
        "outputId": "4042796c-4c9d-4846-b05b-3679877db8aa"
      },
      "execution_count": 24,
      "outputs": [
        {
          "output_type": "stream",
          "name": "stdout",
          "text": [
            "Ingrese una contraseña: agua\n",
            "Contraseña inválida.\n"
          ]
        }
      ]
    },
    {
      "cell_type": "code",
      "source": [
        "contrasena = input(\"Ingrese una contraseña: \")\n",
        "tiene_numero = any(c.isdigit() for c in contrasena)\n",
        "tiene_mayuscula = any(c.isupper() for c in contrasena)\n",
        "if len(contrasena) <= 8:\n",
        "    print(\"Contraseña inválida: muy corta.\")\n",
        "elif not tiene_numero:\n",
        "    print(\"Contraseña inválida: falta un número.\")\n",
        "elif not tiene_mayuscula:\n",
        "    print(\"Contraseña inválida: falta una mayúscula.\")\n",
        "else:\n",
        "    print(\"Contraseña válida.\")"
      ],
      "metadata": {
        "colab": {
          "base_uri": "https://localhost:8080/"
        },
        "id": "RQ_ODTCyVuGo",
        "outputId": "ff17c0e3-4f47-4120-c89d-75479b38c02d"
      },
      "execution_count": 25,
      "outputs": [
        {
          "output_type": "stream",
          "name": "stdout",
          "text": [
            "Ingrese una contraseña: solecito\n",
            "Contraseña inválida: muy corta.\n"
          ]
        }
      ]
    },
    {
      "cell_type": "code",
      "source": [
        "contrasena = input(\"Ingrese una contraseña: \")\n",
        "tiene_numero = any(c.isdigit() for c in contrasena)\n",
        "tiene_mayuscula = any(c.isupper() for c in contrasena)\n",
        "print(\"Contraseña válida.\") if len(contrasena) > 8 and tiene_numero and tiene_mayuscula else print(\"Contraseña inválida.\")"
      ],
      "metadata": {
        "colab": {
          "base_uri": "https://localhost:8080/"
        },
        "id": "dgEKOedVa-TF",
        "outputId": "c62f24c2-7e9e-42cb-dc18-081c3ae440bf"
      },
      "execution_count": 23,
      "outputs": [
        {
          "output_type": "stream",
          "name": "stdout",
          "text": [
            "Ingrese una contraseña: hola\n",
            "Contraseña inválida.\n"
          ]
        }
      ]
    },
    {
      "cell_type": "markdown",
      "source": [
        "9 Escribe un programa que lea un número e imprima “Fizz” si es divisible por 3, “Buzz” si es divisible\n",
        "por 5 y “FizzBuzz” si es divisible por ambos."
      ],
      "metadata": {
        "id": "pCpzky1hV0Dg"
      }
    },
    {
      "cell_type": "code",
      "source": [
        "n = int(input(\"Ingrese un número: \"))\n",
        "if n % 3 == 0 and n % 5 == 0:\n",
        "    print(\"FizzBuzz\")\n",
        "elif n % 3 == 0:\n",
        "    print(\"Fizz\")\n",
        "elif n % 5 == 0:\n",
        "    print(\"Buzz\")\n",
        "else:\n",
        "    print(n)"
      ],
      "metadata": {
        "colab": {
          "base_uri": "https://localhost:8080/"
        },
        "id": "FOJkdz9SV12A",
        "outputId": "d7dcb86e-e3dd-4303-f691-a50dfe09f53d"
      },
      "execution_count": 26,
      "outputs": [
        {
          "output_type": "stream",
          "name": "stdout",
          "text": [
            "Ingrese un número: 6\n",
            "Fizz\n"
          ]
        }
      ]
    },
    {
      "cell_type": "code",
      "source": [
        "n = int(input(\"Ingrese un número: \"))\n",
        "if n % 3 == 0 and n % 5 == 0:\n",
        "    print(\"FizzBuzz\")\n",
        "elif n % 3 == 0:\n",
        "    print(\"Fizz\")\n",
        "elif n % 5 == 0:\n",
        "    print(\"Buzz\")\n",
        "else:\n",
        "    print(n)"
      ],
      "metadata": {
        "colab": {
          "base_uri": "https://localhost:8080/"
        },
        "id": "_hXcYPtHV524",
        "outputId": "8d53bab7-b679-47fd-b6b7-15957915c34f"
      },
      "execution_count": 27,
      "outputs": [
        {
          "output_type": "stream",
          "name": "stdout",
          "text": [
            "Ingrese un número: 5\n",
            "Buzz\n"
          ]
        }
      ]
    },
    {
      "cell_type": "code",
      "source": [
        "n = int(input(\"Ingrese un número: \"))\n",
        "print(\"FizzBuzz\") if n % 3 == 0 and n % 5 == 0 else print(\"Fizz\" if n % 3 == 0 else \"Buzz\" if n % 5 == 0 else n)"
      ],
      "metadata": {
        "colab": {
          "base_uri": "https://localhost:8080/"
        },
        "id": "qAKmAk4FbJBt",
        "outputId": "1ef44fb4-ed92-4b5d-82e5-e27ca49ec784"
      },
      "execution_count": 28,
      "outputs": [
        {
          "output_type": "stream",
          "name": "stdout",
          "text": [
            "Ingrese un número: 8\n",
            "8\n"
          ]
        }
      ]
    },
    {
      "cell_type": "markdown",
      "source": [
        "10 Escribe un programa que simule un cajero automático: recibe el monto a retirar e imprime si la\n",
        "operación es posible en base al saldo disponible."
      ],
      "metadata": {
        "id": "lgRanH9TV-zY"
      }
    },
    {
      "cell_type": "code",
      "source": [
        "saldo_disponible = 1000  # saldo inicial\n",
        "monto = float(input(\"Ingrese el monto a retirar: \"))\n",
        "if monto <= saldo_disponible and monto > 0:\n",
        "    print(\"Operación exitosa. Su nuevo saldo es:\", saldo_disponible - monto)\n",
        "else:\n",
        "    print(\"Fondos insuficientes o monto inválido.\")"
      ],
      "metadata": {
        "colab": {
          "base_uri": "https://localhost:8080/"
        },
        "id": "CHcrTE1UWBCA",
        "outputId": "ac06947e-af1d-44e4-a567-897c7b337148"
      },
      "execution_count": 29,
      "outputs": [
        {
          "output_type": "stream",
          "name": "stdout",
          "text": [
            "Ingrese el monto a retirar: 88\n",
            "Operación exitosa. Su nuevo saldo es: 912.0\n"
          ]
        }
      ]
    },
    {
      "cell_type": "code",
      "source": [
        "saldo_disponible = 1000\n",
        "monto = float(input(\"Ingrese el monto a retirar: \"))\n",
        "if monto <= 0:\n",
        "    print(\"Monto inválido.\")\n",
        "elif monto > saldo_disponible:\n",
        "    print(\"Fondos insuficientes.\")\n",
        "else:\n",
        "    print(\"Operación exitosa. Su nuevo saldo es:\", saldo_disponible - monto)"
      ],
      "metadata": {
        "colab": {
          "base_uri": "https://localhost:8080/"
        },
        "id": "wIBepw94WDco",
        "outputId": "c7b373fa-a608-4ea9-b9de-f0021b2435bc"
      },
      "execution_count": 30,
      "outputs": [
        {
          "output_type": "stream",
          "name": "stdout",
          "text": [
            "Ingrese el monto a retirar: 555\n",
            "Operación exitosa. Su nuevo saldo es: 445.0\n"
          ]
        }
      ]
    },
    {
      "cell_type": "code",
      "source": [
        "saldo_disponible = 1000\n",
        "monto = float(input(\"Ingrese el monto a retirar: \"))\n",
        "print(f\"Operación exitosa. Nuevo saldo: {saldo_disponible - monto}\") if 0 < monto <= saldo_disponible else print(\"Fondos insuficientes o monto inválido.\")"
      ],
      "metadata": {
        "colab": {
          "base_uri": "https://localhost:8080/"
        },
        "id": "gTpWz20ebU8U",
        "outputId": "164179e1-b986-44b6-944e-bf78670a615a"
      },
      "execution_count": 31,
      "outputs": [
        {
          "output_type": "stream",
          "name": "stdout",
          "text": [
            "Ingrese el monto a retirar: 666\n",
            "Operación exitosa. Nuevo saldo: 334.0\n"
          ]
        }
      ]
    }
  ]
}