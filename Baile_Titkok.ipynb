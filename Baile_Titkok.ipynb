{
  "nbformat": 4,
  "nbformat_minor": 0,
  "metadata": {
    "colab": {
      "provenance": [],
      "authorship_tag": "ABX9TyNHEk+BCwmwWXTsLSrfzXT/",
      "include_colab_link": true
    },
    "kernelspec": {
      "name": "python3",
      "display_name": "Python 3"
    },
    "language_info": {
      "name": "python"
    }
  },
  "cells": [
    {
      "cell_type": "markdown",
      "metadata": {
        "id": "view-in-github",
        "colab_type": "text"
      },
      "source": [
        "<a href=\"https://colab.research.google.com/github/slendy21/PROGCOM-B/blob/main/Baile_Titkok.ipynb\" target=\"_parent\"><img src=\"https://colab.research.google.com/assets/colab-badge.svg\" alt=\"Open In Colab\"/></a>"
      ]
    },
    {
      "cell_type": "code",
      "execution_count": null,
      "metadata": {
        "id": "lqD_Wr5Ycz37"
      },
      "outputs": [],
      "source": [
        "https://youtube.com/shorts/mwLbZyHq_08?si=7zsu3uRFCkLztkyN"
      ]
    },
    {
      "cell_type": "code",
      "source": [
        "def paso1(a,b):\n",
        "  for j in range(b):\n",
        "    for i in range(a):\n",
        "      print(\"Alzo el brazo hacia la derecha\")\n",
        "    for i in range(a):\n",
        "      print(\"Alzo el brazo hacia la izquierda\")\n"
      ],
      "metadata": {
        "id": "52XujRJQf1MV"
      },
      "execution_count": 25,
      "outputs": []
    },
    {
      "cell_type": "code",
      "source": [
        "paso1(1,2)"
      ],
      "metadata": {
        "colab": {
          "base_uri": "https://localhost:8080/"
        },
        "id": "HJ3MJGSLiZUD",
        "outputId": "43b69cd9-aa17-4527-baf1-fe417c430617"
      },
      "execution_count": 26,
      "outputs": [
        {
          "output_type": "stream",
          "name": "stdout",
          "text": [
            "Alzo el brazo hacia la derecha\n",
            "Alzo el brazo hacia la izquierda\n",
            "Alzo el brazo hacia la derecha\n",
            "Alzo el brazo hacia la izquierda\n"
          ]
        }
      ]
    },
    {
      "cell_type": "code",
      "source": [
        "def paso2(a,b):\n",
        "  for i in range(a):\n",
        "    print(\"Salto\")\n",
        "    print(\"Al mismo tiempo afirmar con la cabeza\")"
      ],
      "metadata": {
        "id": "-Dco5Cw_jgix"
      },
      "execution_count": 27,
      "outputs": []
    },
    {
      "cell_type": "code",
      "source": [
        "paso2(4,\"saltar\")"
      ],
      "metadata": {
        "colab": {
          "base_uri": "https://localhost:8080/"
        },
        "id": "gMFgnzLFjl5h",
        "outputId": "42886392-6ac9-4c64-a105-139cafbacf57"
      },
      "execution_count": 28,
      "outputs": [
        {
          "output_type": "stream",
          "name": "stdout",
          "text": [
            "Salto\n",
            "Al mismo tiempo afirmar con la cabeza\n",
            "Salto\n",
            "Al mismo tiempo afirmar con la cabeza\n",
            "Salto\n",
            "Al mismo tiempo afirmar con la cabeza\n",
            "Salto\n",
            "Al mismo tiempo afirmar con la cabeza\n"
          ]
        }
      ]
    },
    {
      "cell_type": "code",
      "source": [
        "def paso3(a,b):\n",
        "  for i in range(a):\n",
        "   print(\"Mantengo los brazos arriba\")\n",
        "def muevo_cadera(a,b):\n",
        "  for j in range (b):\n",
        "    for i in range(a):\n",
        "      print(\"Muevo la cadera hacia la derecha\")\n",
        "    for i in range(a):\n",
        "      print(\"Muevo la cadera hacia la izquierda\")\n"
      ],
      "metadata": {
        "id": "DOAJV1xflLip"
      },
      "execution_count": 29,
      "outputs": []
    },
    {
      "cell_type": "code",
      "source": [
        "paso3(1,\"Mantengo los brazos arriba\")\n",
        "muevo_cadera(1,2)"
      ],
      "metadata": {
        "colab": {
          "base_uri": "https://localhost:8080/"
        },
        "id": "ONaATb4UlO-g",
        "outputId": "44269099-fe2b-451b-c9dd-d72517d91489"
      },
      "execution_count": 30,
      "outputs": [
        {
          "output_type": "stream",
          "name": "stdout",
          "text": [
            "Mantengo los brazos arriba\n",
            "Muevo la cadera hacia la derecha\n",
            "Muevo la cadera hacia la izquierda\n",
            "Muevo la cadera hacia la derecha\n",
            "Muevo la cadera hacia la izquierda\n"
          ]
        }
      ]
    },
    {
      "cell_type": "code",
      "source": [
        "def paso4(a,b):\n",
        "  for j in range(b):\n",
        "    print(\"Muevo los puños hacia la derecha\")\n",
        "    print(\"Muevo los puños hacia la izquierda\")\n",
        "\n",
        "\n",
        "def mover_la_cabeza(a,b):\n",
        "  for i in range(a):\n",
        "   print(\"Al mismo tiempo la cabeza locamente\")"
      ],
      "metadata": {
        "id": "-mJp8L0pnFJG"
      },
      "execution_count": 31,
      "outputs": []
    },
    {
      "cell_type": "code",
      "source": [
        "paso4(1,2)\n",
        "mover_la_cabeza(1,\"Al mismo tiempo la cabeza locamente\")\n"
      ],
      "metadata": {
        "colab": {
          "base_uri": "https://localhost:8080/"
        },
        "id": "yuZFzaZwoxMw",
        "outputId": "237c7a74-73fa-4634-8b87-127b724d9bb9"
      },
      "execution_count": 32,
      "outputs": [
        {
          "output_type": "stream",
          "name": "stdout",
          "text": [
            "Muevo los puños hacia la derecha\n",
            "Muevo los puños hacia la izquierda\n",
            "Muevo los puños hacia la derecha\n",
            "Muevo los puños hacia la izquierda\n",
            "Al mismo tiempo la cabeza locamente\n"
          ]
        }
      ]
    },
    {
      "cell_type": "code",
      "source": [
        "def paso5(a,b):\n",
        "  for j in range (b):\n",
        "    for i in range(a):\n",
        "      print(\"Muevo la cadera hacia la derecha\")\n",
        "    for i in range(a):\n",
        "      print(\"Muevo la cadera hacia la izquierda\")\n",
        "def palmas_abajo(a,b):\n",
        "  for i in range(a):\n",
        "    print(\"Se mantiene flexion de piernas y palmas abajo\")"
      ],
      "metadata": {
        "id": "pl7NZV7BpLoN"
      },
      "execution_count": 33,
      "outputs": []
    },
    {
      "cell_type": "code",
      "source": [
        "paso5(1,2)\n",
        "palmas_abajo(1,\"Se mantiene flexion de piernas y palmas abajo\")"
      ],
      "metadata": {
        "colab": {
          "base_uri": "https://localhost:8080/"
        },
        "id": "YoYJGkNMqbV7",
        "outputId": "429b2a22-8af4-486e-9ea3-2385c262968a"
      },
      "execution_count": 34,
      "outputs": [
        {
          "output_type": "stream",
          "name": "stdout",
          "text": [
            "Muevo la cadera hacia la derecha\n",
            "Muevo la cadera hacia la izquierda\n",
            "Muevo la cadera hacia la derecha\n",
            "Muevo la cadera hacia la izquierda\n",
            "Se mantiene flexion de piernas y palmas abajo\n"
          ]
        }
      ]
    },
    {
      "cell_type": "code",
      "source": [
        "def paso6(a,b):\n",
        "  for i in range(a):\n",
        "    print(\"Muevo los brazos hacia la derecha\")\n",
        "    print(\"Muevo las piernas hacia la izquierda\")\n",
        "    print(\"Muevo los brazos hacia la izquierda\")\n",
        "    print(\"Muevo las piernas hacia la derecha\")"
      ],
      "metadata": {
        "id": "AbbYsx74sSgC"
      },
      "execution_count": 35,
      "outputs": []
    },
    {
      "cell_type": "code",
      "source": [
        "paso6(2,\"Muevo los brazos hacia la derecha\")"
      ],
      "metadata": {
        "colab": {
          "base_uri": "https://localhost:8080/"
        },
        "id": "JmcYT8KSsUlj",
        "outputId": "b6c35d6c-92f1-436a-f981-86c46c5be3ab"
      },
      "execution_count": 36,
      "outputs": [
        {
          "output_type": "stream",
          "name": "stdout",
          "text": [
            "Muevo los brazos hacia la derecha\n",
            "Muevo las piernas hacia la izquierda\n",
            "Muevo los brazos hacia la izquierda\n",
            "Muevo las piernas hacia la derecha\n",
            "Muevo los brazos hacia la derecha\n",
            "Muevo las piernas hacia la izquierda\n",
            "Muevo los brazos hacia la izquierda\n",
            "Muevo las piernas hacia la derecha\n"
          ]
        }
      ]
    },
    {
      "cell_type": "code",
      "source": [
        "def paso7(a,b):\n",
        "  for i in range(a):\n",
        "    print(\"Muevo los brazos hacia la derecha\")\n",
        "    print(\"Al mismo tiempo alzo la pierna izquierda hacia la derecha\")\n",
        "    print(\"brazos estirados hacia el frente\")\n",
        "    print(\"Muevo los brazos hacia la izquierda\")\n",
        "    print(\"Al mismo tiempo alzo la pierna derecha hacia la izquierda\")"
      ],
      "metadata": {
        "id": "9CC3rQh0sW5S"
      },
      "execution_count": 37,
      "outputs": []
    },
    {
      "cell_type": "code",
      "source": [
        "paso7(1,\"Muevo los brazos hacia la derecha\")"
      ],
      "metadata": {
        "colab": {
          "base_uri": "https://localhost:8080/"
        },
        "id": "wk8BtEjetIDZ",
        "outputId": "85a75c77-3909-4133-c0eb-c17961ecf850"
      },
      "execution_count": 38,
      "outputs": [
        {
          "output_type": "stream",
          "name": "stdout",
          "text": [
            "Muevo los brazos hacia la derecha\n",
            "Al mismo tiempo alzo la pierna izquierda hacia la derecha\n",
            "brazos estirados hacia el frente\n",
            "Muevo los brazos hacia la izquierda\n",
            "Al mismo tiempo alzo la pierna derecha hacia la izquierda\n"
          ]
        }
      ]
    },
    {
      "cell_type": "code",
      "source": [
        "def paso8(a,b):\n",
        "  for i in range(a):\n",
        "    print(\"Manos cruzadas sobre el pecho\")\n",
        "    print(\"Manos en los hombros\")\n",
        "    print(\"Mano izquierda en el menton y la mano derecha en la mejilla derecha\")\n",
        "    print(\"Mano derecha en el menton y la mano izquierda en la mejilla izquierda\")\n",
        "    print(\"Brazo izquierdo arriba y brazo derecha en la cintura\")"
      ],
      "metadata": {
        "id": "ON46rhVvt7N4"
      },
      "execution_count": 39,
      "outputs": []
    },
    {
      "cell_type": "code",
      "source": [
        "paso8(1,\"Manos cruzadas sobre el pecho\")"
      ],
      "metadata": {
        "id": "cxF5Ge41uItJ",
        "outputId": "635cac92-d413-47f7-ba4d-c445fdd62c6a",
        "colab": {
          "base_uri": "https://localhost:8080/"
        }
      },
      "execution_count": 40,
      "outputs": [
        {
          "output_type": "stream",
          "name": "stdout",
          "text": [
            "Manos cruzadas sobre el pecho\n",
            "Manos en los hombros\n",
            "Mano izquierda en el menton y la mano derecha en la mejilla derecha\n",
            "Mano derecha en el menton y la mano izquierda en la mejilla izquierda\n",
            "Brazo izquierdo arriba y brazo derecha en la cintura\n"
          ]
        }
      ]
    }
  ]
}