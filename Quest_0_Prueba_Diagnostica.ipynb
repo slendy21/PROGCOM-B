{
  "nbformat": 4,
  "nbformat_minor": 0,
  "metadata": {
    "colab": {
      "provenance": []
    },
    "kernelspec": {
      "name": "python3",
      "display_name": "Python 3"
    },
    "language_info": {
      "name": "python"
    }
  },
  "cells": [
    {
      "cell_type": "code",
      "execution_count": null,
      "metadata": {
        "id": "m-e8Z32dmwhT"
      },
      "outputs": [],
      "source": []
    },
    {
      "cell_type": "markdown",
      "source": [
        "#Prueba diagnóstica\n",
        "##Ejercicios de seleccion\n",
        "##Estructuras de decisión\n",
        "1 Escribe un programa que reciba un número e indique si es positivo.\n"
      ],
      "metadata": {
        "id": "Vx2iBleNnYEH"
      }
    },
    {
      "cell_type": "code",
      "source": [
        "num = int(input(\"escribe un numero\"))\n",
        "if num > 0:\n",
        "  print(\"es positivo\")"
      ],
      "metadata": {
        "colab": {
          "base_uri": "https://localhost:8080/"
        },
        "id": "VHyEmjjepVZj",
        "outputId": "a2fc6eeb-447a-4dd3-e53c-2de417a21149"
      },
      "execution_count": 2,
      "outputs": [
        {
          "output_type": "stream",
          "name": "stdout",
          "text": [
            "escribe un numero2\n",
            "es positivo\n"
          ]
        }
      ]
    },
    {
      "cell_type": "markdown",
      "source": [
        "2 Escribe un programa que reciba una edad y determine si la persona es mayor de edad."
      ],
      "metadata": {
        "id": "4-a74t4ArJqL"
      }
    },
    {
      "cell_type": "code",
      "source": [
        "num = int(input(\"Escribe tu edad\"))\n",
        "if num > 18:\n",
        "          print(\"Mayor de edad\")"
      ],
      "metadata": {
        "colab": {
          "base_uri": "https://localhost:8080/"
        },
        "id": "1Oy_lQTArL8o",
        "outputId": "5fe59d91-ba52-4cd5-8be0-0c60d75ae594"
      },
      "execution_count": 7,
      "outputs": [
        {
          "output_type": "stream",
          "name": "stdout",
          "text": [
            "Escribe tu edad22\n",
            "Mayor de edad\n"
          ]
        }
      ]
    },
    {
      "cell_type": "markdown",
      "source": [
        "3 Escribe un programa que reciba dos números e imprima el mayor."
      ],
      "metadata": {
        "id": "rDCrjozMsIxP"
      }
    },
    {
      "cell_type": "code",
      "source": [
        "a = int(input(\"escribe un numero\"))\n",
        "b = int(input(\"escribe un numero\"))\n",
        "if a > b:\n",
        "  print(a)\n",
        "else:\n",
        "    print(b)"
      ],
      "metadata": {
        "colab": {
          "base_uri": "https://localhost:8080/"
        },
        "id": "MbdKZJIVsUje",
        "outputId": "961b072a-68c5-4445-9f79-46586be1fbb8"
      },
      "execution_count": 11,
      "outputs": [
        {
          "output_type": "stream",
          "name": "stdout",
          "text": [
            "escribe un numero2\n",
            "escribe un numero3\n",
            "3\n"
          ]
        }
      ]
    },
    {
      "cell_type": "markdown",
      "source": [
        "4 Escribe un programa que reciba una calificación (0-100) e indique si es Aprobado (>=60) o Reprobado."
      ],
      "metadata": {
        "id": "gG3mLh1TuJIM"
      }
    },
    {
      "cell_type": "code",
      "source": [
        "nota = int(input(\"Escribe tu nota\"))\n",
        "if nota >= 60:\n",
        "  print(\"aprobado\")\n",
        "else:\n",
        "  print(\"reprobado)\")"
      ],
      "metadata": {
        "colab": {
          "base_uri": "https://localhost:8080/"
        },
        "id": "e5IEJ_aIuIju",
        "outputId": "ba6ee67c-f6d3-4ab6-9404-79faecbf3833"
      },
      "execution_count": 13,
      "outputs": [
        {
          "output_type": "stream",
          "name": "stdout",
          "text": [
            "Escribe tu nota35\n",
            "reprobado)\n"
          ]
        }
      ]
    },
    {
      "cell_type": "markdown",
      "source": [
        "5 Escribe un programa que determine si un número es par o impar."
      ],
      "metadata": {
        "id": "--56WNVNwNpx"
      }
    },
    {
      "cell_type": "code",
      "source": [
        "n = int(input(\"escribe un numero\"))\n",
        "if n % 2 == 0:\n",
        "  print(\"es par\")\n",
        "else:\n",
        "  print(\" es impar\")"
      ],
      "metadata": {
        "colab": {
          "base_uri": "https://localhost:8080/"
        },
        "id": "zKazvK5XwQAZ",
        "outputId": "1bfa2b98-c223-4fa0-9d0c-82d4fd2b6a2e"
      },
      "execution_count": 16,
      "outputs": [
        {
          "output_type": "stream",
          "name": "stdout",
          "text": [
            "escribe un numero5\n",
            " es impar\n"
          ]
        }
      ]
    },
    {
      "cell_type": "markdown",
      "source": [
        "6 Escribe un programa que reciba tres números e imprima el mayor de los tres."
      ],
      "metadata": {
        "id": "pA0XdCOGx5oW"
      }
    },
    {
      "cell_type": "code",
      "source": [
        "a = int(input())\n",
        "b = int(input())\n",
        "c = int(input())\n",
        "if a >= b and a >= c:\n",
        "  print(a)"
      ],
      "metadata": {
        "colab": {
          "base_uri": "https://localhost:8080/",
          "height": 106
        },
        "id": "6L0gsdlByYqV",
        "outputId": "1ad28b92-7355-40c5-d899-85063d2b697c"
      },
      "execution_count": 24,
      "outputs": [
        {
          "output_type": "error",
          "ename": "SyntaxError",
          "evalue": "incomplete input (ipython-input-3316311847.py, line 4)",
          "traceback": [
            "\u001b[0;36m  File \u001b[0;32m\"/tmp/ipython-input-3316311847.py\"\u001b[0;36m, line \u001b[0;32m4\u001b[0m\n\u001b[0;31m    if a >= b and a >= c:\u001b[0m\n\u001b[0m                         ^\u001b[0m\n\u001b[0;31mSyntaxError\u001b[0m\u001b[0;31m:\u001b[0m incomplete input\n"
          ]
        }
      ]
    },
    {
      "cell_type": "markdown",
      "source": [
        "7 Escribe un programa que reciba un año e indique si es bisiesto."
      ],
      "metadata": {
        "id": "Odymov5XyWZ-"
      }
    },
    {
      "cell_type": "markdown",
      "source": [
        "1 indicaria que escriban el numero del año"
      ],
      "metadata": {
        "id": "CUNtE9JJ1AFC"
      }
    }
  ]
}